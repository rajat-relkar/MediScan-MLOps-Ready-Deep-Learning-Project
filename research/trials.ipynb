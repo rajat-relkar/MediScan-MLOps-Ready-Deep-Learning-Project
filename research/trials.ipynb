{
 "cells": [
  {
   "cell_type": "markdown",
   "id": "c2cc46db",
   "metadata": {},
   "source": [
    "## ConfigBox - Used for error handling\n"
   ]
  },
  {
   "cell_type": "code",
   "execution_count": 1,
   "id": "8f1bb85d",
   "metadata": {},
   "outputs": [
    {
     "name": "stdout",
     "output_type": "stream",
     "text": [
      "{'name': 'Rajjo', 'email': 'relkarrajat@gmail.com'}\n",
      "<class 'dict'>\n"
     ]
    }
   ],
   "source": [
    "import yaml\n",
    "\n",
    "yaml_file_path = \"test.yaml\"\n",
    "\n",
    "# Open the YAML file and load its contents\n",
    "with open(yaml_file_path, 'r') as yaml_file:\n",
    "    data = yaml.safe_load(yaml_file)\n",
    "\n",
    "\n",
    "print(data)\n",
    "print(type(data))"
   ]
  },
  {
   "cell_type": "code",
   "execution_count": 5,
   "id": "b179ea51",
   "metadata": {},
   "outputs": [
    {
     "data": {
      "text/plain": [
       "'Rajjo'"
      ]
     },
     "execution_count": 5,
     "metadata": {},
     "output_type": "execute_result"
    }
   ],
   "source": [
    "data['name']"
   ]
  },
  {
   "cell_type": "code",
   "execution_count": 7,
   "id": "704f1a2d",
   "metadata": {},
   "outputs": [
    {
     "name": "stdout",
     "output_type": "stream",
     "text": [
      "Rajjo\n",
      "relkarrajat@gmail.com\n"
     ]
    }
   ],
   "source": [
    "from box import ConfigBox\n",
    "\n",
    "config_data = ConfigBox(data)\n",
    "\n",
    "print(config_data.name)\n",
    "print(config_data.email)"
   ]
  },
  {
   "cell_type": "code",
   "execution_count": 10,
   "id": "61a5b85c",
   "metadata": {},
   "outputs": [
    {
     "data": {
      "text/plain": [
       "str"
      ]
     },
     "execution_count": 10,
     "metadata": {},
     "output_type": "execute_result"
    }
   ],
   "source": [
    "type(config_data.name)"
   ]
  },
  {
   "cell_type": "markdown",
   "id": "af50d12d",
   "metadata": {},
   "source": [
    "ensure_annotation\n"
   ]
  },
  {
   "cell_type": "code",
   "execution_count": 11,
   "id": "fd718fd1",
   "metadata": {},
   "outputs": [],
   "source": [
    "def get_product(x:int, y:int):\n",
    "    return x*y"
   ]
  },
  {
   "cell_type": "code",
   "execution_count": 12,
   "id": "a9e77249",
   "metadata": {},
   "outputs": [
    {
     "data": {
      "text/plain": [
       "'77'"
      ]
     },
     "execution_count": 12,
     "metadata": {},
     "output_type": "execute_result"
    }
   ],
   "source": [
    "get_product(x=2, y=\"7\")"
   ]
  },
  {
   "cell_type": "code",
   "execution_count": 13,
   "id": "8212469c",
   "metadata": {},
   "outputs": [],
   "source": [
    "from ensure import ensure_annotations\n",
    "\n",
    "@ensure_annotations\n",
    "def get_product(x:int, y:int):\n",
    "    return x*y"
   ]
  },
  {
   "cell_type": "code",
   "execution_count": 15,
   "id": "9b876673",
   "metadata": {},
   "outputs": [],
   "source": [
    "# get_product(x=8, y='8')"
   ]
  },
  {
   "cell_type": "code",
   "execution_count": null,
   "id": "4c7224f2",
   "metadata": {},
   "outputs": [],
   "source": []
  }
 ],
 "metadata": {
  "kernelspec": {
   "display_name": "chest1",
   "language": "python",
   "name": "python3"
  },
  "language_info": {
   "codemirror_mode": {
    "name": "ipython",
    "version": 3
   },
   "file_extension": ".py",
   "mimetype": "text/x-python",
   "name": "python",
   "nbconvert_exporter": "python",
   "pygments_lexer": "ipython3",
   "version": "3.11.13"
  }
 },
 "nbformat": 4,
 "nbformat_minor": 5
}
